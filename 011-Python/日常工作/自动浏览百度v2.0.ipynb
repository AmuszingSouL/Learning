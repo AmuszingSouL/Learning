{
 "cells": [
  {
   "cell_type": "code",
   "execution_count": 9,
   "metadata": {},
   "outputs": [],
   "source": [
    "from selenium import webdriver\n",
    "from time import sleep"
   ]
  },
  {
   "cell_type": "code",
   "execution_count": 10,
   "metadata": {},
   "outputs": [],
   "source": [
    "driver = webdriver.Chrome(r'C:\\Users\\Administrator\\Downloads\\chromedriver_win32\\chromedriver.exe')"
   ]
  },
  {
   "cell_type": "code",
   "execution_count": 11,
   "metadata": {},
   "outputs": [],
   "source": [
    "driver.get(\"http://www.baidu.com\")"
   ]
  },
  {
   "cell_type": "code",
   "execution_count": null,
   "metadata": {},
   "outputs": [],
   "source": []
  },
  {
   "cell_type": "code",
   "execution_count": 18,
   "metadata": {},
   "outputs": [],
   "source": [
    "driver.find_element_by_id('kw').send_keys('selenium')\n",
    "sleep(2)"
   ]
  },
  {
   "cell_type": "code",
   "execution_count": 22,
   "metadata": {},
   "outputs": [],
   "source": [
    "el = driver.find_element_by_id('kw')"
   ]
  },
  {
   "cell_type": "code",
   "execution_count": 25,
   "metadata": {},
   "outputs": [],
   "source": [
    "from selenium.webdriver.common.keys import Keys"
   ]
  },
  {
   "cell_type": "code",
   "execution_count": 26,
   "metadata": {},
   "outputs": [],
   "source": [
    "el.send_keys(Keys.ENTER)   # 真棒  实现了  网页自动打开  自动搜索  自动确定"
   ]
  },
  {
   "cell_type": "code",
   "execution_count": null,
   "metadata": {},
   "outputs": [],
   "source": [
    "# 1. 输出指定文本的内容   div里面的内容 \n",
    "# 2. 遍历所有的查询结果  然后想法输出"
   ]
  },
  {
   "cell_type": "code",
   "execution_count": 27,
   "metadata": {},
   "outputs": [
    {
     "name": "stdout",
     "output_type": "stream",
     "text": [
      "seleniumseleniumseleniumselenium_百度搜索\n"
     ]
    }
   ],
   "source": [
    "# 打印当前页面title\n",
    "title = driver.title\n",
    "print(title)"
   ]
  },
  {
   "cell_type": "code",
   "execution_count": 28,
   "metadata": {},
   "outputs": [
    {
     "name": "stdout",
     "output_type": "stream",
     "text": [
      "https://www.baidu.com/s?ie=utf-8&f=8&rsv_bp=1&rsv_idx=1&tn=baidu&wd=seleniumseleniumseleniumselenium&fenlei=256&rsv_pq=d7aeb3f5000f16bb&rsv_t=b654rP5Lw%2B7DJYaw5dgwiBrAOxMp81K8Ogvunpgpyk9sO3lzbx7VuS7GFv8&rqlang=cn&rsv_enter=1&rsv_dl=tb&rsv_sug3=32&rsv_sug2=0&rsv_btype=i&inputT=729869&rsv_sug4=729869\n"
     ]
    }
   ],
   "source": [
    "# 打印当前页面URL\n",
    "now_url = driver.current_url\n",
    "print(now_url)"
   ]
  },
  {
   "cell_type": "code",
   "execution_count": 32,
   "metadata": {},
   "outputs": [
    {
     "name": "stdout",
     "output_type": "stream",
     "text": [
      "百度首页设置登录\n",
      "网页资讯视频图片知道文库贴吧采购地图更多»\n",
      "换一换\n",
      "百度热榜\n",
      "1蒋凡被除名阿里合伙人\n",
      "2北京:建议市民五一假期不去境外游新\n",
      "3李国庆称不是抢公章:依法接管\n",
      "4唐艺昕孕期游泳\n",
      "5谭卓疑似隐婚生子\n",
      "6肖战发文\n",
      "7周扬青小号曝昔日聊天记录\n",
      "8孩子复课家长激动成表情包\n",
      "9复课后体育老师忧心忡忡\n",
      "10沈腾和贾玲第一次见到腰\n",
      "11教育部不建议占用假期补课\n",
      "12谁来为“错换人生28年”买单\n",
      "13比尔盖茨谈中国负责论新\n",
      "14日本一市政府暴发聚集性感染\n",
      "15民航将安排5架次航班接900人回国新\n",
      "搜索工具\n",
      "百度为您找到相关结果约1,790,000个\n",
      "Selenium automates browsers. That's it!\n",
      "查看此网页的中文翻译，请点击 翻译此页\n",
      "Support the Selenium Project Want to support the Selenium project? Learn more or view the full list of sponsors. LEARN MORE ...\n",
      "https://www.selenium.dev/  - 百度快照\n",
      "Selenium WebDriver的工作原理 - YOYO的博客 - CSDN博客\n",
      "2018年5月8日 - 对于每一条Selenium脚本,一个http请求会被创建并且发送给浏览器的驱动 浏览器驱动中包含了一个HTTP Server,用来接收这些http请求 HTTP Server接收到请...\n",
      "CSDN技术社区 - 百度快照\n",
      "【Selenium】使用selenium进行自动化测试(上) - 暗潮汹..._CSDN博客\n",
      "2018年9月20日 - 自动化测试框架Selenium 入门 阅读数 1万+ 什么是seleniumselenium是ThoughtWork的一款开源测试框架。下载selenium2.0lib包,点击http://code.google...\n",
      "CSDN技术社区 - 百度快照\n",
      "python环境安装selenium和手动下载安装selenium的方法..._博客园\n",
      "2018年4月22日 - 方法1:cmd环境下,用pip install selenium 可能会很慢 方法2:下载selenium安装包手动安装 下载地址:https://pypi.org/project/selenium/ 选择扩展名为gz的源码...\n",
      "https://www.cnblogs.com/xiaxia...  - 百度快照\n",
      "Selenium Webdriver元素定位的八种常用方式详解_Java_J..._CSDN博客\n",
      "2017年10月1日 - 在使用selenium webdriver进行元素定位时,通常使用findElement或findElements方法结合By类返回的元素句柄来定位元素。其中By类的常用定位方式共八种,现分别介绍如下。...\n",
      "CSDN技术社区 - 百度快照\n",
      "Selenium WebDriver | Selenium 中文文档\n",
      "Selenium 2.0 最主要的一个新特性就是集成了 WebDriver API。WebDriver 提供更精简的编程几口,以解决 Selenium-RC API 中的一些限制。WebDriver 为那些页面元素...\n",
      "https://wizardforcel.gitbooks....  - 百度快照\n",
      "selenium2.0和selenium3.0介绍 - 开源优测 - 51Testing软件测试网...\n",
      "2017年4月5日 - Selenium是一组web自动化测试工具集,它由以下几个部分构成: Selenium IDE(Integrated Development Environment) 这是Firefox浏览器的一个插件,用于录...\n",
      "www.51testing.com/html...  - 百度快照\n",
      "Python+selenium 自动化-selenium的版本查看和升级..._CSDN博客\n",
      "2018年11月16日 - 基于Selenium的web自动化框架 阅读数 7 1 什么是seleniumSelenium 是一个基于浏览器的自动化工具,它提供了一种跨平台、跨浏览器的端到端的web自动化解决方案。S...\n",
      "CSDN技术社区 - 百度快照\n",
      "python学习之爬虫(六)--selenium: 无头浏览器、seleniu..._CSDN博客\n",
      "2019年4月21日 - Selenium是一个Web的自动测试工具, 最初是为了网站自动化测试二开发的, Selenium可以直接运行在浏览器上,特支持所有主流的浏览器(包括PhantomJS这些无...\n",
      "CSDN技术社区 - 百度快照\n",
      "为您推荐：selenium无头浏览器selenium无头浏览器被识别无头浏览器chromium\n",
      "chrome无头浏览器可以用selenium的vps无头浏览器的主要应用场景\n",
      "自动化测试框架Selenium的使用——安装Selenium_干勾鱼..._CSDN博客\n",
      "2018年9月18日 - Selenium是一个自动化测试框架,广泛的用于自动化测试领域(是不是真的广泛用于自动化测试领域我也不知道,没怎么搞过自动化测试 -_-!,这是我臆测的 =~ω~=)。...\n",
      "CSDN技术社区 - 百度快照\n",
      "1\n",
      "2\n",
      "3\n",
      "4\n",
      "5\n",
      "6\n",
      "7\n",
      "8\n",
      "9\n",
      "10\n",
      "下一页>\n",
      "帮助举报用户反馈\n"
     ]
    }
   ],
   "source": [
    "user = driver.find_element_by_class_name('wrapper_s').text\n",
    "print(user)"
   ]
  },
  {
   "cell_type": "code",
   "execution_count": 31,
   "metadata": {},
   "outputs": [
    {
     "name": "stdout",
     "output_type": "stream",
     "text": [
      "<class 'list'>\n",
      "Selenium automates browsers. That's it!\n",
      "Selenium WebDriver的工作原理 - YOYO的博客 - CSDN博客\n",
      "【Selenium】使用selenium进行自动化测试(上) - 暗潮汹..._CSDN博客\n",
      "python环境安装selenium和手动下载安装selenium的方法..._博客园\n",
      "Selenium Webdriver元素定位的八种常用方式详解_Java_J..._CSDN博客\n",
      "Selenium WebDriver | Selenium 中文文档\n",
      "selenium2.0和selenium3.0介绍 - 开源优测 - 51Testing软件测试网...\n",
      "Python+selenium 自动化-selenium的版本查看和升级..._CSDN博客\n",
      "python学习之爬虫(六)--selenium: 无头浏览器、seleniu..._CSDN博客\n",
      "自动化测试框架Selenium的使用——安装Selenium_干勾鱼..._CSDN博客\n"
     ]
    }
   ],
   "source": [
    "\n",
    "#1.定位一组元素\n",
    "elements = driver.find_elements_by_xpath('//div/h3/a')\n",
    "print(type(elements))\n",
    "\n",
    "#2.循环遍历出每一条搜索结果的标题\n",
    "for t in elements:\n",
    "    print(t.text)\n",
    "    element=driver.find_element_by_link_text(t.text)\n",
    "    element.click()\n",
    "    sleep(3)"
   ]
  },
  {
   "cell_type": "code",
   "execution_count": null,
   "metadata": {},
   "outputs": [],
   "source": []
  }
 ],
 "metadata": {
  "kernelspec": {
   "display_name": "Python 3",
   "language": "python",
   "name": "python3"
  },
  "language_info": {
   "codemirror_mode": {
    "name": "ipython",
    "version": 3
   },
   "file_extension": ".py",
   "mimetype": "text/x-python",
   "name": "python",
   "nbconvert_exporter": "python",
   "pygments_lexer": "ipython3",
   "version": "3.7.6"
  }
 },
 "nbformat": 4,
 "nbformat_minor": 4
}
